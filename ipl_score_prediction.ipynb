{
  "nbformat": 4,
  "nbformat_minor": 0,
  "metadata": {
    "colab": {
      "name": "ipl_score_prediction.ipynb",
      "provenance": [],
      "collapsed_sections": [],
      "authorship_tag": "ABX9TyP0f565kVpAziO0V1Q6XUIp",
      "include_colab_link": true
    },
    "kernelspec": {
      "name": "python3",
      "display_name": "Python 3"
    },
    "language_info": {
      "name": "python"
    }
  },
  "cells": [
    {
      "cell_type": "markdown",
      "metadata": {
        "id": "view-in-github",
        "colab_type": "text"
      },
      "source": [
        "<a href=\"https://colab.research.google.com/github/PiyushSonawane1302/Machine-Learning-Project/blob/master/ipl_score_prediction.ipynb\" target=\"_parent\"><img src=\"https://colab.research.google.com/assets/colab-badge.svg\" alt=\"Open In Colab\"/></a>"
      ]
    },
    {
      "cell_type": "markdown",
      "metadata": {
        "id": "MtHP98Ffp_dq"
      },
      "source": [
        "# **First Innings IPL Score Predidction**\n",
        "\n",
        "![](https://i.pinimg.com/564x/f3/d1/22/f3d122cabf32e379906a7fbfab3ab224.jpg)\n",
        "\n",
        "```\n",
        "By : Piyush Sonawane (TITA-62)\n",
        "     Malhar Patil (TITA-15)\n",
        "     Shreyash Bongulwar (TITA-45)\n",
        "     Suyash Kshrisagar (TITA-49)\n",
        "```\n",
        "\n",
        "\n",
        "     "
      ]
    },
    {
      "cell_type": "markdown",
      "metadata": {
        "id": "fTti8G3WjNzt"
      },
      "source": [
        "# 🔗 `IPL Dataset`\n",
        "[Dataset Download Link](https://www.kaggle.com/yuvrajdagur/ipl-dataset-season-2008-to-2017)\n",
        "\n",
        "\n"
      ]
    },
    {
      "cell_type": "code",
      "metadata": {
        "id": "Vn3pcHNQNBgP"
      },
      "source": [
        "# Importing Necessary Libraries\n",
        "import pandas as pd\n",
        "import numpy as np"
      ],
      "execution_count": 4,
      "outputs": []
    },
    {
      "cell_type": "code",
      "metadata": {
        "id": "Hc9mAgkGNGos"
      },
      "source": [
        "# Loading the dataset\n",
        "data = pd.read_csv('data.csv')"
      ],
      "execution_count": 5,
      "outputs": []
    },
    {
      "cell_type": "markdown",
      "metadata": {
        "id": "1eNqDumRRI-K"
      },
      "source": [
        "#Data Analysis"
      ]
    },
    {
      "cell_type": "code",
      "metadata": {
        "colab": {
          "base_uri": "https://localhost:8080/",
          "height": 417
        },
        "id": "xzC5EyLbNGsW",
        "outputId": "b8f887fb-3053-49d3-b896-cfbe01857f76"
      },
      "source": [
        "# First 5 Columns Data\n",
        "data.head()"
      ],
      "execution_count": 6,
      "outputs": [
        {
          "output_type": "execute_result",
          "data": {
            "text/html": [
              "<div>\n",
              "<style scoped>\n",
              "    .dataframe tbody tr th:only-of-type {\n",
              "        vertical-align: middle;\n",
              "    }\n",
              "\n",
              "    .dataframe tbody tr th {\n",
              "        vertical-align: top;\n",
              "    }\n",
              "\n",
              "    .dataframe thead th {\n",
              "        text-align: right;\n",
              "    }\n",
              "</style>\n",
              "<table border=\"1\" class=\"dataframe\">\n",
              "  <thead>\n",
              "    <tr style=\"text-align: right;\">\n",
              "      <th></th>\n",
              "      <th>mid</th>\n",
              "      <th>date</th>\n",
              "      <th>venue</th>\n",
              "      <th>batting_team</th>\n",
              "      <th>bowling_team</th>\n",
              "      <th>batsman</th>\n",
              "      <th>bowler</th>\n",
              "      <th>runs</th>\n",
              "      <th>wickets</th>\n",
              "      <th>overs</th>\n",
              "      <th>runs_last_5</th>\n",
              "      <th>wickets_last_5</th>\n",
              "      <th>striker</th>\n",
              "      <th>non-striker</th>\n",
              "      <th>total</th>\n",
              "    </tr>\n",
              "  </thead>\n",
              "  <tbody>\n",
              "    <tr>\n",
              "      <th>0</th>\n",
              "      <td>1</td>\n",
              "      <td>2008-04-18</td>\n",
              "      <td>M Chinnaswamy Stadium</td>\n",
              "      <td>Kolkata Knight Riders</td>\n",
              "      <td>Royal Challengers Bangalore</td>\n",
              "      <td>SC Ganguly</td>\n",
              "      <td>P Kumar</td>\n",
              "      <td>1</td>\n",
              "      <td>0</td>\n",
              "      <td>0.1</td>\n",
              "      <td>1</td>\n",
              "      <td>0</td>\n",
              "      <td>0</td>\n",
              "      <td>0</td>\n",
              "      <td>222</td>\n",
              "    </tr>\n",
              "    <tr>\n",
              "      <th>1</th>\n",
              "      <td>1</td>\n",
              "      <td>2008-04-18</td>\n",
              "      <td>M Chinnaswamy Stadium</td>\n",
              "      <td>Kolkata Knight Riders</td>\n",
              "      <td>Royal Challengers Bangalore</td>\n",
              "      <td>BB McCullum</td>\n",
              "      <td>P Kumar</td>\n",
              "      <td>1</td>\n",
              "      <td>0</td>\n",
              "      <td>0.2</td>\n",
              "      <td>1</td>\n",
              "      <td>0</td>\n",
              "      <td>0</td>\n",
              "      <td>0</td>\n",
              "      <td>222</td>\n",
              "    </tr>\n",
              "    <tr>\n",
              "      <th>2</th>\n",
              "      <td>1</td>\n",
              "      <td>2008-04-18</td>\n",
              "      <td>M Chinnaswamy Stadium</td>\n",
              "      <td>Kolkata Knight Riders</td>\n",
              "      <td>Royal Challengers Bangalore</td>\n",
              "      <td>BB McCullum</td>\n",
              "      <td>P Kumar</td>\n",
              "      <td>2</td>\n",
              "      <td>0</td>\n",
              "      <td>0.2</td>\n",
              "      <td>2</td>\n",
              "      <td>0</td>\n",
              "      <td>0</td>\n",
              "      <td>0</td>\n",
              "      <td>222</td>\n",
              "    </tr>\n",
              "    <tr>\n",
              "      <th>3</th>\n",
              "      <td>1</td>\n",
              "      <td>2008-04-18</td>\n",
              "      <td>M Chinnaswamy Stadium</td>\n",
              "      <td>Kolkata Knight Riders</td>\n",
              "      <td>Royal Challengers Bangalore</td>\n",
              "      <td>BB McCullum</td>\n",
              "      <td>P Kumar</td>\n",
              "      <td>2</td>\n",
              "      <td>0</td>\n",
              "      <td>0.3</td>\n",
              "      <td>2</td>\n",
              "      <td>0</td>\n",
              "      <td>0</td>\n",
              "      <td>0</td>\n",
              "      <td>222</td>\n",
              "    </tr>\n",
              "    <tr>\n",
              "      <th>4</th>\n",
              "      <td>1</td>\n",
              "      <td>2008-04-18</td>\n",
              "      <td>M Chinnaswamy Stadium</td>\n",
              "      <td>Kolkata Knight Riders</td>\n",
              "      <td>Royal Challengers Bangalore</td>\n",
              "      <td>BB McCullum</td>\n",
              "      <td>P Kumar</td>\n",
              "      <td>2</td>\n",
              "      <td>0</td>\n",
              "      <td>0.4</td>\n",
              "      <td>2</td>\n",
              "      <td>0</td>\n",
              "      <td>0</td>\n",
              "      <td>0</td>\n",
              "      <td>222</td>\n",
              "    </tr>\n",
              "  </tbody>\n",
              "</table>\n",
              "</div>"
            ],
            "text/plain": [
              "   mid        date                  venue  ... striker non-striker total\n",
              "0    1  2008-04-18  M Chinnaswamy Stadium  ...       0           0   222\n",
              "1    1  2008-04-18  M Chinnaswamy Stadium  ...       0           0   222\n",
              "2    1  2008-04-18  M Chinnaswamy Stadium  ...       0           0   222\n",
              "3    1  2008-04-18  M Chinnaswamy Stadium  ...       0           0   222\n",
              "4    1  2008-04-18  M Chinnaswamy Stadium  ...       0           0   222\n",
              "\n",
              "[5 rows x 15 columns]"
            ]
          },
          "metadata": {},
          "execution_count": 6
        }
      ]
    },
    {
      "cell_type": "code",
      "metadata": {
        "colab": {
          "base_uri": "https://localhost:8080/",
          "height": 300
        },
        "id": "U3FmsqDjNTJX",
        "outputId": "18966507-b953-4c9b-aa04-31445a27e65b"
      },
      "source": [
        "# Describing Numerical Values of the Dataset\n",
        "data.describe()"
      ],
      "execution_count": 7,
      "outputs": [
        {
          "output_type": "execute_result",
          "data": {
            "text/html": [
              "<div>\n",
              "<style scoped>\n",
              "    .dataframe tbody tr th:only-of-type {\n",
              "        vertical-align: middle;\n",
              "    }\n",
              "\n",
              "    .dataframe tbody tr th {\n",
              "        vertical-align: top;\n",
              "    }\n",
              "\n",
              "    .dataframe thead th {\n",
              "        text-align: right;\n",
              "    }\n",
              "</style>\n",
              "<table border=\"1\" class=\"dataframe\">\n",
              "  <thead>\n",
              "    <tr style=\"text-align: right;\">\n",
              "      <th></th>\n",
              "      <th>mid</th>\n",
              "      <th>runs</th>\n",
              "      <th>wickets</th>\n",
              "      <th>overs</th>\n",
              "      <th>runs_last_5</th>\n",
              "      <th>wickets_last_5</th>\n",
              "      <th>striker</th>\n",
              "      <th>non-striker</th>\n",
              "      <th>total</th>\n",
              "    </tr>\n",
              "  </thead>\n",
              "  <tbody>\n",
              "    <tr>\n",
              "      <th>count</th>\n",
              "      <td>76014.000000</td>\n",
              "      <td>76014.000000</td>\n",
              "      <td>76014.000000</td>\n",
              "      <td>76014.000000</td>\n",
              "      <td>76014.000000</td>\n",
              "      <td>76014.000000</td>\n",
              "      <td>76014.000000</td>\n",
              "      <td>76014.000000</td>\n",
              "      <td>76014.000000</td>\n",
              "    </tr>\n",
              "    <tr>\n",
              "      <th>mean</th>\n",
              "      <td>308.627740</td>\n",
              "      <td>74.889349</td>\n",
              "      <td>2.415844</td>\n",
              "      <td>9.783068</td>\n",
              "      <td>33.216434</td>\n",
              "      <td>1.120307</td>\n",
              "      <td>24.962283</td>\n",
              "      <td>8.869287</td>\n",
              "      <td>160.901452</td>\n",
              "    </tr>\n",
              "    <tr>\n",
              "      <th>std</th>\n",
              "      <td>178.156878</td>\n",
              "      <td>48.823327</td>\n",
              "      <td>2.015207</td>\n",
              "      <td>5.772587</td>\n",
              "      <td>14.914174</td>\n",
              "      <td>1.053343</td>\n",
              "      <td>20.079752</td>\n",
              "      <td>10.795742</td>\n",
              "      <td>29.246231</td>\n",
              "    </tr>\n",
              "    <tr>\n",
              "      <th>min</th>\n",
              "      <td>1.000000</td>\n",
              "      <td>0.000000</td>\n",
              "      <td>0.000000</td>\n",
              "      <td>0.000000</td>\n",
              "      <td>0.000000</td>\n",
              "      <td>0.000000</td>\n",
              "      <td>0.000000</td>\n",
              "      <td>0.000000</td>\n",
              "      <td>67.000000</td>\n",
              "    </tr>\n",
              "    <tr>\n",
              "      <th>25%</th>\n",
              "      <td>154.000000</td>\n",
              "      <td>34.000000</td>\n",
              "      <td>1.000000</td>\n",
              "      <td>4.600000</td>\n",
              "      <td>24.000000</td>\n",
              "      <td>0.000000</td>\n",
              "      <td>10.000000</td>\n",
              "      <td>1.000000</td>\n",
              "      <td>142.000000</td>\n",
              "    </tr>\n",
              "    <tr>\n",
              "      <th>50%</th>\n",
              "      <td>308.000000</td>\n",
              "      <td>70.000000</td>\n",
              "      <td>2.000000</td>\n",
              "      <td>9.600000</td>\n",
              "      <td>34.000000</td>\n",
              "      <td>1.000000</td>\n",
              "      <td>20.000000</td>\n",
              "      <td>5.000000</td>\n",
              "      <td>162.000000</td>\n",
              "    </tr>\n",
              "    <tr>\n",
              "      <th>75%</th>\n",
              "      <td>463.000000</td>\n",
              "      <td>111.000000</td>\n",
              "      <td>4.000000</td>\n",
              "      <td>14.600000</td>\n",
              "      <td>43.000000</td>\n",
              "      <td>2.000000</td>\n",
              "      <td>35.000000</td>\n",
              "      <td>13.000000</td>\n",
              "      <td>181.000000</td>\n",
              "    </tr>\n",
              "    <tr>\n",
              "      <th>max</th>\n",
              "      <td>617.000000</td>\n",
              "      <td>263.000000</td>\n",
              "      <td>10.000000</td>\n",
              "      <td>19.600000</td>\n",
              "      <td>113.000000</td>\n",
              "      <td>7.000000</td>\n",
              "      <td>175.000000</td>\n",
              "      <td>109.000000</td>\n",
              "      <td>263.000000</td>\n",
              "    </tr>\n",
              "  </tbody>\n",
              "</table>\n",
              "</div>"
            ],
            "text/plain": [
              "                mid          runs  ...   non-striker         total\n",
              "count  76014.000000  76014.000000  ...  76014.000000  76014.000000\n",
              "mean     308.627740     74.889349  ...      8.869287    160.901452\n",
              "std      178.156878     48.823327  ...     10.795742     29.246231\n",
              "min        1.000000      0.000000  ...      0.000000     67.000000\n",
              "25%      154.000000     34.000000  ...      1.000000    142.000000\n",
              "50%      308.000000     70.000000  ...      5.000000    162.000000\n",
              "75%      463.000000    111.000000  ...     13.000000    181.000000\n",
              "max      617.000000    263.000000  ...    109.000000    263.000000\n",
              "\n",
              "[8 rows x 9 columns]"
            ]
          },
          "metadata": {},
          "execution_count": 7
        }
      ]
    },
    {
      "cell_type": "code",
      "metadata": {
        "colab": {
          "base_uri": "https://localhost:8080/"
        },
        "id": "83b4Q_ujNVPW",
        "outputId": "bb9ba3ae-8001-4035-fad2-0eecb7dc7835"
      },
      "source": [
        "# Information (not-null count and data type) About Each Column\n",
        "data.info()"
      ],
      "execution_count": 8,
      "outputs": [
        {
          "output_type": "stream",
          "name": "stdout",
          "text": [
            "<class 'pandas.core.frame.DataFrame'>\n",
            "RangeIndex: 76014 entries, 0 to 76013\n",
            "Data columns (total 15 columns):\n",
            " #   Column          Non-Null Count  Dtype  \n",
            "---  ------          --------------  -----  \n",
            " 0   mid             76014 non-null  int64  \n",
            " 1   date            76014 non-null  object \n",
            " 2   venue           76014 non-null  object \n",
            " 3   batting_team    76014 non-null  object \n",
            " 4   bowling_team    76014 non-null  object \n",
            " 5   batsman         76014 non-null  object \n",
            " 6   bowler          76014 non-null  object \n",
            " 7   runs            76014 non-null  int64  \n",
            " 8   wickets         76014 non-null  int64  \n",
            " 9   overs           76014 non-null  float64\n",
            " 10  runs_last_5     76014 non-null  int64  \n",
            " 11  wickets_last_5  76014 non-null  int64  \n",
            " 12  striker         76014 non-null  int64  \n",
            " 13  non-striker     76014 non-null  int64  \n",
            " 14  total           76014 non-null  int64  \n",
            "dtypes: float64(1), int64(8), object(6)\n",
            "memory usage: 8.7+ MB\n"
          ]
        }
      ]
    },
    {
      "cell_type": "code",
      "metadata": {
        "colab": {
          "base_uri": "https://localhost:8080/"
        },
        "id": "Eu8jRU4pNW7c",
        "outputId": "daa9f70f-8bb9-4b0e-c870-24baac91276f"
      },
      "source": [
        "# Number of Unique Values in each column\n",
        "data.nunique()"
      ],
      "execution_count": 9,
      "outputs": [
        {
          "output_type": "execute_result",
          "data": {
            "text/plain": [
              "mid               617\n",
              "date              442\n",
              "venue              35\n",
              "batting_team       14\n",
              "bowling_team       14\n",
              "batsman           411\n",
              "bowler            329\n",
              "runs              252\n",
              "wickets            11\n",
              "overs             140\n",
              "runs_last_5       102\n",
              "wickets_last_5      8\n",
              "striker           155\n",
              "non-striker        88\n",
              "total             138\n",
              "dtype: int64"
            ]
          },
          "metadata": {},
          "execution_count": 9
        }
      ]
    },
    {
      "cell_type": "code",
      "metadata": {
        "colab": {
          "base_uri": "https://localhost:8080/"
        },
        "id": "udbZmHcuNYme",
        "outputId": "2bf54ca5-8ee2-4b52-a113-a28c50aabdac"
      },
      "source": [
        "# Datatypes of all Columns\n",
        "data.dtypes"
      ],
      "execution_count": 10,
      "outputs": [
        {
          "output_type": "execute_result",
          "data": {
            "text/plain": [
              "mid                 int64\n",
              "date               object\n",
              "venue              object\n",
              "batting_team       object\n",
              "bowling_team       object\n",
              "batsman            object\n",
              "bowler             object\n",
              "runs                int64\n",
              "wickets             int64\n",
              "overs             float64\n",
              "runs_last_5         int64\n",
              "wickets_last_5      int64\n",
              "striker             int64\n",
              "non-striker         int64\n",
              "total               int64\n",
              "dtype: object"
            ]
          },
          "metadata": {},
          "execution_count": 10
        }
      ]
    },
    {
      "cell_type": "markdown",
      "metadata": {
        "id": "SznT5urFNa2Z"
      },
      "source": [
        "#Data Cleaning"
      ]
    },
    {
      "cell_type": "markdown",
      "metadata": {
        "id": "0zj9J0AqNeOp"
      },
      "source": [
        "Removing Unwanted Columns"
      ]
    },
    {
      "cell_type": "code",
      "metadata": {
        "colab": {
          "base_uri": "https://localhost:8080/"
        },
        "id": "ZiHeTcYANj7q",
        "outputId": "c53a79c4-fa87-4614-d3d2-1c45ef85df4c"
      },
      "source": [
        "# Names of all columns\n",
        "data.columns"
      ],
      "execution_count": 11,
      "outputs": [
        {
          "output_type": "execute_result",
          "data": {
            "text/plain": [
              "Index(['mid', 'date', 'venue', 'batting_team', 'bowling_team', 'batsman',\n",
              "       'bowler', 'runs', 'wickets', 'overs', 'runs_last_5', 'wickets_last_5',\n",
              "       'striker', 'non-striker', 'total'],\n",
              "      dtype='object')"
            ]
          },
          "metadata": {},
          "execution_count": 11
        }
      ]
    },
    {
      "cell_type": "code",
      "metadata": {
        "colab": {
          "base_uri": "https://localhost:8080/"
        },
        "id": "JGlJXX8INtae",
        "outputId": "8cde8012-47d8-4016-f362-277a9fa21cb1"
      },
      "source": [
        "# Removing unwanted columns\n",
        "columns_to_remove = ['mid', 'date' , 'venue', 'batsman', 'bowler', 'striker', 'non-striker']\n",
        "print('Before removing unwanted columns: {}'.format(data.shape))\n",
        "data.drop(labels=columns_to_remove, axis=1, inplace=True)\n",
        "print('After removing unwanted columns: {}'.format(data.shape))\n"
      ],
      "execution_count": 12,
      "outputs": [
        {
          "output_type": "stream",
          "name": "stdout",
          "text": [
            "Before removing unwanted columns: (76014, 15)\n",
            "After removing unwanted columns: (76014, 8)\n"
          ]
        }
      ]
    },
    {
      "cell_type": "code",
      "metadata": {
        "id": "8kErCPYcUt3z"
      },
      "source": [
        "consistent_teams = ['Kolkata Knight Riders', 'Chennai Super Kings', 'Rajasthan Royals',\n",
        "                    'Mumbai Indians', 'Kings XI Punjab', 'Royal Challengers Bangalore',\n",
        "                    'Delhi Daredevils', 'Sunrisers Hyderabad']"
      ],
      "execution_count": 13,
      "outputs": []
    },
    {
      "cell_type": "code",
      "metadata": {
        "colab": {
          "base_uri": "https://localhost:8080/"
        },
        "id": "ahv63c8xVFT7",
        "outputId": "10778118-46e6-486b-8d3b-b1d269d70a10"
      },
      "source": [
        "print('Before Removing Inconsistent Teams : {}'.format(data.shape))\n",
        "data = data[(data['batting_team'].isin(consistent_teams)) & (data['bowling_team'].isin(consistent_teams))]\n",
        "print('After Removing Irrelevant Columns : {}'.format(data.shape))"
      ],
      "execution_count": 14,
      "outputs": [
        {
          "output_type": "stream",
          "name": "stdout",
          "text": [
            "Before Removing Inconsistent Teams : (76014, 8)\n",
            "After Removing Irrelevant Columns : (53811, 8)\n"
          ]
        }
      ]
    },
    {
      "cell_type": "code",
      "metadata": {
        "colab": {
          "base_uri": "https://localhost:8080/"
        },
        "id": "XWefxAyFV3vX",
        "outputId": "7370a5ab-1909-45d4-dd5f-f24b3715798b"
      },
      "source": [
        "#teams after removing\n",
        "data['batting_team'].unique()"
      ],
      "execution_count": 15,
      "outputs": [
        {
          "output_type": "execute_result",
          "data": {
            "text/plain": [
              "array(['Kolkata Knight Riders', 'Chennai Super Kings', 'Rajasthan Royals',\n",
              "       'Mumbai Indians', 'Kings XI Punjab', 'Royal Challengers Bangalore',\n",
              "       'Delhi Daredevils', 'Sunrisers Hyderabad'], dtype=object)"
            ]
          },
          "metadata": {},
          "execution_count": 15
        }
      ]
    },
    {
      "cell_type": "code",
      "metadata": {
        "colab": {
          "base_uri": "https://localhost:8080/"
        },
        "id": "8IToK3m2V-5r",
        "outputId": "e7c0b4bd-3d60-4d8f-e9c8-fedf94432491"
      },
      "source": [
        "# Removing the first 5 overs data in every match\n",
        "print('Before removing first 5 overs data: {}'.format(data.shape))\n",
        "data = data[data['overs']>=5.0]\n",
        "print('After removing first 5 overs data: {}'.format(data.shape))"
      ],
      "execution_count": 16,
      "outputs": [
        {
          "output_type": "stream",
          "name": "stdout",
          "text": [
            "Before removing first 5 overs data: (53811, 8)\n",
            "After removing first 5 overs data: (40108, 8)\n"
          ]
        }
      ]
    },
    {
      "cell_type": "code",
      "metadata": {
        "colab": {
          "base_uri": "https://localhost:8080/",
          "height": 348
        },
        "id": "QojUDr-7Wn6c",
        "outputId": "b244066f-f17e-481a-b32b-d704a2bbb00a"
      },
      "source": [
        "from seaborn import heatmap\n",
        "heatmap(data=data.corr(), annot=True)"
      ],
      "execution_count": 17,
      "outputs": [
        {
          "output_type": "execute_result",
          "data": {
            "text/plain": [
              "<matplotlib.axes._subplots.AxesSubplot at 0x7fac0ba668d0>"
            ]
          },
          "metadata": {},
          "execution_count": 17
        },
        {
          "output_type": "display_data",
          "data": {
            "image/png": "[encoded data removed]",
            "text/plain": [
              "<Figure size 432x288 with 2 Axes>"
            ]
          },
          "metadata": {
            "needs_background": "light"
          }
        }
      ]
    },
    {
      "cell_type": "markdown",
      "metadata": {
        "id": "0wMCX_uGWwWi"
      },
      "source": [
        "# **Data Preprocessing and Encoding**"
      ]
    },
    {
      "cell_type": "markdown",
      "metadata": {
        "id": "9rFHMwu9W01s"
      },
      "source": [
        "Performing Label Encoding"
      ]
    },
    {
      "cell_type": "code",
      "metadata": {
        "colab": {
          "base_uri": "https://localhost:8080/",
          "height": 206
        },
        "id": "CZPznHy2W3XM",
        "outputId": "d20e2542-2221-417a-ea7b-d0d5e8370a3c"
      },
      "source": [
        "from sklearn.preprocessing import LabelEncoder, OneHotEncoder\n",
        "label = LabelEncoder()\n",
        "for col in ['batting_team', 'bowling_team']:\n",
        "  data[col] = label.fit_transform(data[col])\n",
        "data.head()"
      ],
      "execution_count": 18,
      "outputs": [
        {
          "output_type": "execute_result",
          "data": {
            "text/html": [
              "<div>\n",
              "<style scoped>\n",
              "    .dataframe tbody tr th:only-of-type {\n",
              "        vertical-align: middle;\n",
              "    }\n",
              "\n",
              "    .dataframe tbody tr th {\n",
              "        vertical-align: top;\n",
              "    }\n",
              "\n",
              "    .dataframe thead th {\n",
              "        text-align: right;\n",
              "    }\n",
              "</style>\n",
              "<table border=\"1\" class=\"dataframe\">\n",
              "  <thead>\n",
              "    <tr style=\"text-align: right;\">\n",
              "      <th></th>\n",
              "      <th>batting_team</th>\n",
              "      <th>bowling_team</th>\n",
              "      <th>runs</th>\n",
              "      <th>wickets</th>\n",
              "      <th>overs</th>\n",
              "      <th>runs_last_5</th>\n",
              "      <th>wickets_last_5</th>\n",
              "      <th>total</th>\n",
              "    </tr>\n",
              "  </thead>\n",
              "  <tbody>\n",
              "    <tr>\n",
              "      <th>32</th>\n",
              "      <td>3</td>\n",
              "      <td>6</td>\n",
              "      <td>61</td>\n",
              "      <td>0</td>\n",
              "      <td>5.1</td>\n",
              "      <td>59</td>\n",
              "      <td>0</td>\n",
              "      <td>222</td>\n",
              "    </tr>\n",
              "    <tr>\n",
              "      <th>33</th>\n",
              "      <td>3</td>\n",
              "      <td>6</td>\n",
              "      <td>61</td>\n",
              "      <td>1</td>\n",
              "      <td>5.2</td>\n",
              "      <td>59</td>\n",
              "      <td>1</td>\n",
              "      <td>222</td>\n",
              "    </tr>\n",
              "    <tr>\n",
              "      <th>34</th>\n",
              "      <td>3</td>\n",
              "      <td>6</td>\n",
              "      <td>61</td>\n",
              "      <td>1</td>\n",
              "      <td>5.3</td>\n",
              "      <td>59</td>\n",
              "      <td>1</td>\n",
              "      <td>222</td>\n",
              "    </tr>\n",
              "    <tr>\n",
              "      <th>35</th>\n",
              "      <td>3</td>\n",
              "      <td>6</td>\n",
              "      <td>61</td>\n",
              "      <td>1</td>\n",
              "      <td>5.4</td>\n",
              "      <td>59</td>\n",
              "      <td>1</td>\n",
              "      <td>222</td>\n",
              "    </tr>\n",
              "    <tr>\n",
              "      <th>36</th>\n",
              "      <td>3</td>\n",
              "      <td>6</td>\n",
              "      <td>61</td>\n",
              "      <td>1</td>\n",
              "      <td>5.5</td>\n",
              "      <td>58</td>\n",
              "      <td>1</td>\n",
              "      <td>222</td>\n",
              "    </tr>\n",
              "  </tbody>\n",
              "</table>\n",
              "</div>"
            ],
            "text/plain": [
              "    batting_team  bowling_team  runs  ...  runs_last_5  wickets_last_5  total\n",
              "32             3             6    61  ...           59               0    222\n",
              "33             3             6    61  ...           59               1    222\n",
              "34             3             6    61  ...           59               1    222\n",
              "35             3             6    61  ...           59               1    222\n",
              "36             3             6    61  ...           58               1    222\n",
              "\n",
              "[5 rows x 8 columns]"
            ]
          },
          "metadata": {},
          "execution_count": 18
        }
      ]
    },
    {
      "cell_type": "markdown",
      "metadata": {
        "id": "NuJyc7k_XbKK"
      },
      "source": [
        "###Performing One Hot Encoding and Column Transformation"
      ]
    },
    {
      "cell_type": "code",
      "metadata": {
        "id": "vr5qf1KAXfwD"
      },
      "source": [
        "from sklearn.compose import ColumnTransformer\n",
        "columnTransformer = ColumnTransformer([('encoder', \n",
        "                                        OneHotEncoder(), \n",
        "                                        [0, 1])], \n",
        "                                      remainder='passthrough')"
      ],
      "execution_count": 19,
      "outputs": []
    },
    {
      "cell_type": "code",
      "metadata": {
        "id": "0m3IzEhYXqYh"
      },
      "source": [
        "data = np.array(columnTransformer.fit_transform(data))"
      ],
      "execution_count": 20,
      "outputs": []
    },
    {
      "cell_type": "code",
      "metadata": {
        "id": "gL4nk1G3Xy_0"
      },
      "source": [
        "# Rearranging the columns\n",
        "cols = ['bat_team_Chennai Super Kings', 'bat_team_Delhi Daredevils', 'bat_team_Kings XI Punjab',\n",
        "              'bat_team_Kolkata Knight Riders', 'bat_team_Mumbai Indians', 'bat_team_Rajasthan Royals',\n",
        "              'bat_team_Royal Challengers Bangalore', 'bat_team_Sunrisers Hyderabad',\n",
        "              'bowl_team_Chennai Super Kings', 'bowl_team_Delhi Daredevils', 'bowl_team_Kings XI Punjab',\n",
        "              'bowl_team_Kolkata Knight Riders', 'bowl_team_Mumbai Indians', 'bowl_team_Rajasthan Royals',\n",
        "              'bowl_team_Royal Challengers Bangalore', 'bowl_team_Sunrisers Hyderabad',\n",
        "              'overs', 'runs', 'wickets', 'runs_last_5', 'wickets_last_5', 'total']\n",
        "df = pd.DataFrame(data, columns=cols)"
      ],
      "execution_count": 21,
      "outputs": []
    },
    {
      "cell_type": "code",
      "metadata": {
        "colab": {
          "base_uri": "https://localhost:8080/",
          "height": 261
        },
        "id": "0sZXfPLAYTwl",
        "outputId": "3f4b028f-0691-4ad5-adc0-a37cf08c08ae"
      },
      "source": [
        "# Visualize Encoded Data\n",
        "df.head()"
      ],
      "execution_count": 22,
      "outputs": [
        {
          "output_type": "execute_result",
          "data": {
            "text/html": [
              "<div>\n",
              "<style scoped>\n",
              "    .dataframe tbody tr th:only-of-type {\n",
              "        vertical-align: middle;\n",
              "    }\n",
              "\n",
              "    .dataframe tbody tr th {\n",
              "        vertical-align: top;\n",
              "    }\n",
              "\n",
              "    .dataframe thead th {\n",
              "        text-align: right;\n",
              "    }\n",
              "</style>\n",
              "<table border=\"1\" class=\"dataframe\">\n",
              "  <thead>\n",
              "    <tr style=\"text-align: right;\">\n",
              "      <th></th>\n",
              "      <th>bat_team_Chennai Super Kings</th>\n",
              "      <th>bat_team_Delhi Daredevils</th>\n",
              "      <th>bat_team_Kings XI Punjab</th>\n",
              "      <th>bat_team_Kolkata Knight Riders</th>\n",
              "      <th>bat_team_Mumbai Indians</th>\n",
              "      <th>bat_team_Rajasthan Royals</th>\n",
              "      <th>bat_team_Royal Challengers Bangalore</th>\n",
              "      <th>bat_team_Sunrisers Hyderabad</th>\n",
              "      <th>bowl_team_Chennai Super Kings</th>\n",
              "      <th>bowl_team_Delhi Daredevils</th>\n",
              "      <th>bowl_team_Kings XI Punjab</th>\n",
              "      <th>bowl_team_Kolkata Knight Riders</th>\n",
              "      <th>bowl_team_Mumbai Indians</th>\n",
              "      <th>bowl_team_Rajasthan Royals</th>\n",
              "      <th>bowl_team_Royal Challengers Bangalore</th>\n",
              "      <th>bowl_team_Sunrisers Hyderabad</th>\n",
              "      <th>overs</th>\n",
              "      <th>runs</th>\n",
              "      <th>wickets</th>\n",
              "      <th>runs_last_5</th>\n",
              "      <th>wickets_last_5</th>\n",
              "      <th>total</th>\n",
              "    </tr>\n",
              "  </thead>\n",
              "  <tbody>\n",
              "    <tr>\n",
              "      <th>0</th>\n",
              "      <td>0.0</td>\n",
              "      <td>0.0</td>\n",
              "      <td>0.0</td>\n",
              "      <td>1.0</td>\n",
              "      <td>0.0</td>\n",
              "      <td>0.0</td>\n",
              "      <td>0.0</td>\n",
              "      <td>0.0</td>\n",
              "      <td>0.0</td>\n",
              "      <td>0.0</td>\n",
              "      <td>0.0</td>\n",
              "      <td>0.0</td>\n",
              "      <td>0.0</td>\n",
              "      <td>0.0</td>\n",
              "      <td>1.0</td>\n",
              "      <td>0.0</td>\n",
              "      <td>61.0</td>\n",
              "      <td>0.0</td>\n",
              "      <td>5.1</td>\n",
              "      <td>59.0</td>\n",
              "      <td>0.0</td>\n",
              "      <td>222.0</td>\n",
              "    </tr>\n",
              "    <tr>\n",
              "      <th>1</th>\n",
              "      <td>0.0</td>\n",
              "      <td>0.0</td>\n",
              "      <td>0.0</td>\n",
              "      <td>1.0</td>\n",
              "      <td>0.0</td>\n",
              "      <td>0.0</td>\n",
              "      <td>0.0</td>\n",
              "      <td>0.0</td>\n",
              "      <td>0.0</td>\n",
              "      <td>0.0</td>\n",
              "      <td>0.0</td>\n",
              "      <td>0.0</td>\n",
              "      <td>0.0</td>\n",
              "      <td>0.0</td>\n",
              "      <td>1.0</td>\n",
              "      <td>0.0</td>\n",
              "      <td>61.0</td>\n",
              "      <td>1.0</td>\n",
              "      <td>5.2</td>\n",
              "      <td>59.0</td>\n",
              "      <td>1.0</td>\n",
              "      <td>222.0</td>\n",
              "    </tr>\n",
              "    <tr>\n",
              "      <th>2</th>\n",
              "      <td>0.0</td>\n",
              "      <td>0.0</td>\n",
              "      <td>0.0</td>\n",
              "      <td>1.0</td>\n",
              "      <td>0.0</td>\n",
              "      <td>0.0</td>\n",
              "      <td>0.0</td>\n",
              "      <td>0.0</td>\n",
              "      <td>0.0</td>\n",
              "      <td>0.0</td>\n",
              "      <td>0.0</td>\n",
              "      <td>0.0</td>\n",
              "      <td>0.0</td>\n",
              "      <td>0.0</td>\n",
              "      <td>1.0</td>\n",
              "      <td>0.0</td>\n",
              "      <td>61.0</td>\n",
              "      <td>1.0</td>\n",
              "      <td>5.3</td>\n",
              "      <td>59.0</td>\n",
              "      <td>1.0</td>\n",
              "      <td>222.0</td>\n",
              "    </tr>\n",
              "    <tr>\n",
              "      <th>3</th>\n",
              "      <td>0.0</td>\n",
              "      <td>0.0</td>\n",
              "      <td>0.0</td>\n",
              "      <td>1.0</td>\n",
              "      <td>0.0</td>\n",
              "      <td>0.0</td>\n",
              "      <td>0.0</td>\n",
              "      <td>0.0</td>\n",
              "      <td>0.0</td>\n",
              "      <td>0.0</td>\n",
              "      <td>0.0</td>\n",
              "      <td>0.0</td>\n",
              "      <td>0.0</td>\n",
              "      <td>0.0</td>\n",
              "      <td>1.0</td>\n",
              "      <td>0.0</td>\n",
              "      <td>61.0</td>\n",
              "      <td>1.0</td>\n",
              "      <td>5.4</td>\n",
              "      <td>59.0</td>\n",
              "      <td>1.0</td>\n",
              "      <td>222.0</td>\n",
              "    </tr>\n",
              "    <tr>\n",
              "      <th>4</th>\n",
              "      <td>0.0</td>\n",
              "      <td>0.0</td>\n",
              "      <td>0.0</td>\n",
              "      <td>1.0</td>\n",
              "      <td>0.0</td>\n",
              "      <td>0.0</td>\n",
              "      <td>0.0</td>\n",
              "      <td>0.0</td>\n",
              "      <td>0.0</td>\n",
              "      <td>0.0</td>\n",
              "      <td>0.0</td>\n",
              "      <td>0.0</td>\n",
              "      <td>0.0</td>\n",
              "      <td>0.0</td>\n",
              "      <td>1.0</td>\n",
              "      <td>0.0</td>\n",
              "      <td>61.0</td>\n",
              "      <td>1.0</td>\n",
              "      <td>5.5</td>\n",
              "      <td>58.0</td>\n",
              "      <td>1.0</td>\n",
              "      <td>222.0</td>\n",
              "    </tr>\n",
              "  </tbody>\n",
              "</table>\n",
              "</div>"
            ],
            "text/plain": [
              "   bat_team_Chennai Super Kings  ...  total\n",
              "0                           0.0  ...  222.0\n",
              "1                           0.0  ...  222.0\n",
              "2                           0.0  ...  222.0\n",
              "3                           0.0  ...  222.0\n",
              "4                           0.0  ...  222.0\n",
              "\n",
              "[5 rows x 22 columns]"
            ]
          },
          "metadata": {},
          "execution_count": 22
        }
      ]
    },
    {
      "cell_type": "markdown",
      "metadata": {
        "id": "XfmA7cCIYqsi"
      },
      "source": [
        "##Train and Test Splits"
      ]
    },
    {
      "cell_type": "code",
      "metadata": {
        "id": "dlY455b4ZJA5"
      },
      "source": [
        "features = df.drop(['total'], axis=1)\n",
        "labels = df['total']"
      ],
      "execution_count": 23,
      "outputs": []
    },
    {
      "cell_type": "code",
      "metadata": {
        "colab": {
          "base_uri": "https://localhost:8080/"
        },
        "id": "qjE5ylV2YpSB",
        "outputId": "fb829b45-9d77-4f14-ef5e-6879578e1d87"
      },
      "source": [
        "# Perform 80 : 20 Train-Test split\n",
        "from sklearn.model_selection import train_test_split\n",
        "train_features, test_features, train_labels, test_labels = train_test_split(features, labels, test_size=0.20, shuffle=True)\n",
        "print(f\"Training Set : {train_features.shape}\\nTesting Set : {test_features.shape}\")"
      ],
      "execution_count": 24,
      "outputs": [
        {
          "output_type": "stream",
          "name": "stdout",
          "text": [
            "Training Set : (32086, 21)\n",
            "Testing Set : (8022, 21)\n"
          ]
        }
      ]
    },
    {
      "cell_type": "markdown",
      "metadata": {
        "id": "oCtoxJLkZroB"
      },
      "source": [
        "#Algorithms\n",
        "##Training and Testing on different Machine Learning Algorithms"
      ]
    },
    {
      "cell_type": "code",
      "metadata": {
        "id": "xsMW7wzTZrLj"
      },
      "source": [
        "# Keeping track of model perfomances\n",
        "models = dict()"
      ],
      "execution_count": 25,
      "outputs": []
    },
    {
      "cell_type": "markdown",
      "metadata": {
        "id": "LnFFtkQJaVP7"
      },
      "source": [
        "## 1.Linear Reression"
      ]
    },
    {
      "cell_type": "code",
      "metadata": {
        "colab": {
          "base_uri": "https://localhost:8080/"
        },
        "id": "RlAy8QDnaRpi",
        "outputId": "bd4ce130-ef33-431b-b92e-168d57d8c1d4"
      },
      "source": [
        "from sklearn.linear_model import LinearRegression\n",
        "linreg = LinearRegression()\n",
        "# Train Model\n",
        "linreg.fit(train_features, train_labels)"
      ],
      "execution_count": 26,
      "outputs": [
        {
          "output_type": "execute_result",
          "data": {
            "text/plain": [
              "LinearRegression(copy_X=True, fit_intercept=True, n_jobs=None, normalize=False)"
            ]
          },
          "metadata": {},
          "execution_count": 26
        }
      ]
    },
    {
      "cell_type": "code",
      "metadata": {
        "colab": {
          "base_uri": "https://localhost:8080/"
        },
        "id": "16nC0RQSaevN",
        "outputId": "82d85bdc-a3d5-4478-b46f-d136942657dc"
      },
      "source": [
        "# Evaluate Model\n",
        "train_score_linreg = str(linreg.score(train_features, train_labels) * 100)\n",
        "test_score_linreg = str(linreg.score(test_features, test_labels) * 100)\n",
        "print(f'Train Score : {train_score_linreg[:5]}%\\nTest Score : {test_score_linreg[:5]}%')\n",
        "models[\"linreg\"] = test_score_linreg"
      ],
      "execution_count": 27,
      "outputs": [
        {
          "output_type": "stream",
          "name": "stdout",
          "text": [
            "Train Score : 65.75%\n",
            "Test Score : 66.58%\n"
          ]
        }
      ]
    },
    {
      "cell_type": "code",
      "metadata": {
        "colab": {
          "base_uri": "https://localhost:8080/"
        },
        "id": "lMCMTN1Paj9t",
        "outputId": "ac3164c9-0577-4fa2-fe46-9e1e23e9b7e0"
      },
      "source": [
        "# Linear Regression - Model Evaluation\n",
        "from sklearn.metrics import mean_absolute_error as mae, mean_squared_error as mse, accuracy_score\n",
        "print(\"---- Linear Regression - Model Evaluation ----\")\n",
        "print(\"Mean Absolute Error (MAE): {}\".format(mae(test_labels, linreg.predict(test_features))))\n",
        "print(\"Mean Squared Error (MSE): {}\".format(mse(test_labels, linreg.predict(test_features))))\n",
        "print(\"Root Mean Squared Error (RMSE): {}\".format(np.sqrt(mse(test_labels, linreg.predict(test_features)))))"
      ],
      "execution_count": 28,
      "outputs": [
        {
          "output_type": "stream",
          "name": "stdout",
          "text": [
            "---- Linear Regression - Model Evaluation ----\n",
            "Mean Absolute Error (MAE): 12.950109744706666\n",
            "Mean Squared Error (MSE): 299.9893874685751\n",
            "Root Mean Squared Error (RMSE): 17.320201715585622\n"
          ]
        }
      ]
    },
    {
      "cell_type": "markdown",
      "metadata": {
        "id": "iCwTGeDRZ0hc"
      },
      "source": [
        "### **2. Decision Tree Regressor**"
      ]
    },
    {
      "cell_type": "code",
      "metadata": {
        "id": "S8McmqdSZ2Gk",
        "colab": {
          "base_uri": "https://localhost:8080/"
        },
        "outputId": "5cda92be-d36e-4dd3-83ea-382c7890245d"
      },
      "source": [
        "from sklearn.tree import DecisionTreeRegressor\n",
        "tree = DecisionTreeRegressor()\n",
        "# Train Model\n",
        "tree.fit(train_features, train_labels)"
      ],
      "execution_count": 29,
      "outputs": [
        {
          "output_type": "execute_result",
          "data": {
            "text/plain": [
              "DecisionTreeRegressor(ccp_alpha=0.0, criterion='mse', max_depth=None,\n",
              "                      max_features=None, max_leaf_nodes=None,\n",
              "                      min_impurity_decrease=0.0, min_impurity_split=None,\n",
              "                      min_samples_leaf=1, min_samples_split=2,\n",
              "                      min_weight_fraction_leaf=0.0, presort='deprecated',\n",
              "                      random_state=None, splitter='best')"
            ]
          },
          "metadata": {},
          "execution_count": 29
        }
      ]
    },
    {
      "cell_type": "code",
      "metadata": {
        "id": "sz6zIkDRaDtO",
        "colab": {
          "base_uri": "https://localhost:8080/"
        },
        "outputId": "e16b9a91-39b3-49b3-e87f-56da9aab28a0"
      },
      "source": [
        "# Evaluate Model\n",
        "train_score_tree = str(tree.score(train_features, train_labels) * 100)\n",
        "test_score_tree = str(tree.score(test_features, test_labels) * 100)\n",
        "print(f'Train Score : {train_score_tree[:5]}%\\nTest Score : {test_score_tree[:5]}%')\n",
        "models[\"tree\"] = test_score_tree"
      ],
      "execution_count": 30,
      "outputs": [
        {
          "output_type": "stream",
          "name": "stdout",
          "text": [
            "Train Score : 99.98%\n",
            "Test Score : 86.47%\n"
          ]
        }
      ]
    },
    {
      "cell_type": "code",
      "metadata": {
        "id": "uWHDBNesaIxz",
        "colab": {
          "base_uri": "https://localhost:8080/"
        },
        "outputId": "bc70b4b5-9404-4c26-c5af-6e115a52cd2f"
      },
      "source": [
        "from sklearn.metrics import mean_absolute_error as mae, mean_squared_error as mse\n",
        "print(\"---- Decision Tree Regressor - Model Evaluation ----\")\n",
        "print(\"Mean Absolute Error (MAE): {}\".format(mae(test_labels, tree.predict(test_features))))\n",
        "print(\"Mean Squared Error (MSE): {}\".format(mse(test_labels, tree.predict(test_features))))\n",
        "print(\"Root Mean Squared Error (RMSE): {}\".format(np.sqrt(mse(test_labels, tree.predict(test_features)))))"
      ],
      "execution_count": 31,
      "outputs": [
        {
          "output_type": "stream",
          "name": "stdout",
          "text": [
            "---- Decision Tree Regressor - Model Evaluation ----\n",
            "Mean Absolute Error (MAE): 3.8826975816504614\n",
            "Mean Squared Error (MSE): 121.45886312640239\n",
            "Root Mean Squared Error (RMSE): 11.02083767807159\n"
          ]
        }
      ]
    },
    {
      "cell_type": "markdown",
      "metadata": {
        "id": "aRNTAx_7asCW"
      },
      "source": [
        "## 3.Random Forest Regression"
      ]
    },
    {
      "cell_type": "code",
      "metadata": {
        "id": "a7J3oiLiattq",
        "colab": {
          "base_uri": "https://localhost:8080/"
        },
        "outputId": "88e669b4-3a44-48ee-ec79-b79fa7e1cdf2"
      },
      "source": [
        "from sklearn.ensemble import RandomForestRegressor\n",
        "forest = RandomForestRegressor()\n",
        "# Train Model\n",
        "forest.fit(train_features, train_labels)"
      ],
      "execution_count": 32,
      "outputs": [
        {
          "output_type": "execute_result",
          "data": {
            "text/plain": [
              "RandomForestRegressor(bootstrap=True, ccp_alpha=0.0, criterion='mse',\n",
              "                      max_depth=None, max_features='auto', max_leaf_nodes=None,\n",
              "                      max_samples=None, min_impurity_decrease=0.0,\n",
              "                      min_impurity_split=None, min_samples_leaf=1,\n",
              "                      min_samples_split=2, min_weight_fraction_leaf=0.0,\n",
              "                      n_estimators=100, n_jobs=None, oob_score=False,\n",
              "                      random_state=None, verbose=0, warm_start=False)"
            ]
          },
          "metadata": {},
          "execution_count": 32
        }
      ]
    },
    {
      "cell_type": "code",
      "metadata": {
        "id": "KjFGl3q1axRc",
        "colab": {
          "base_uri": "https://localhost:8080/"
        },
        "outputId": "b74e737d-ba3d-448f-ed3d-4aaaa9748186"
      },
      "source": [
        "# Evaluate Model\n",
        "train_score_forest = str(forest.score(train_features, train_labels)*100)\n",
        "test_score_forest = str(forest.score(test_features, test_labels)*100)\n",
        "print(f'Train Score : {train_score_forest[:5]}%\\nTest Score : {test_score_forest[:5]}%')\n",
        "models[\"forest\"] = test_score_forest"
      ],
      "execution_count": 33,
      "outputs": [
        {
          "output_type": "stream",
          "name": "stdout",
          "text": [
            "Train Score : 99.02%\n",
            "Test Score : 93.57%\n"
          ]
        }
      ]
    },
    {
      "cell_type": "code",
      "metadata": {
        "id": "yfb3y5Kja0_i",
        "colab": {
          "base_uri": "https://localhost:8080/"
        },
        "outputId": "12778bb9-fe3e-41d6-864b-5b996eb4ab67"
      },
      "source": [
        "print(\"---- Random Forest Regression - Model Evaluation ----\")\n",
        "print(\"Mean Absolute Error (MAE): {}\".format(mae(test_labels, forest.predict(test_features))))\n",
        "print(\"Mean Squared Error (MSE): {}\".format(mse(test_labels, forest.predict(test_features))))\n",
        "print(\"Root Mean Squared Error (RMSE): {}\".format(np.sqrt(mse(test_labels, forest.predict(test_features)))))"
      ],
      "execution_count": 34,
      "outputs": [
        {
          "output_type": "stream",
          "name": "stdout",
          "text": [
            "---- Random Forest Regression - Model Evaluation ----\n",
            "Mean Absolute Error (MAE): 4.444662487682683\n",
            "Mean Squared Error (MSE): 57.69490038097825\n",
            "Root Mean Squared Error (RMSE): 7.595715922872461\n"
          ]
        }
      ]
    },
    {
      "cell_type": "code",
      "metadata": {
        "id": "BHzkHm6jbM6k",
        "colab": {
          "base_uri": "https://localhost:8080/",
          "height": 337
        },
        "outputId": "c7aad0bc-eb5f-4c0f-f2f6-f81832465cfc"
      },
      "source": [
        "from seaborn import barplot\n",
        "model_names = list(models.keys())\n",
        "accuracy = list(map(float, models.values()))\n",
        "barplot(model_names, accuracy)"
      ],
      "execution_count": 35,
      "outputs": [
        {
          "output_type": "stream",
          "name": "stderr",
          "text": [
            "/usr/local/lib/python3.7/dist-packages/seaborn/_decorators.py:43: FutureWarning: Pass the following variables as keyword args: x, y. From version 0.12, the only valid positional argument will be `data`, and passing other arguments without an explicit keyword will result in an error or misinterpretation.\n",
            "  FutureWarning\n"
          ]
        },
        {
          "output_type": "execute_result",
          "data": {
            "text/plain": [
              "<matplotlib.axes._subplots.AxesSubplot at 0x7fabfb711d50>"
            ]
          },
          "metadata": {},
          "execution_count": 35
        },
        {
          "output_type": "display_data",
          "data": {
            "image/png": "[encoded data removed]",
            "text/plain": [
              "<Figure size 432x288 with 1 Axes>"
            ]
          },
          "metadata": {
            "needs_background": "light"
          }
        }
      ]
    },
    {
      "cell_type": "markdown",
      "metadata": {
        "id": "gN2J5lprfwbQ"
      },
      "source": [
        "### From above we can see that  Random Forest performed the best, closely followed by Decision Tree and Linear Regression. So we will be choosing Random Forest for the Final model."
      ]
    },
    {
      "cell_type": "markdown",
      "metadata": {
        "id": "vra9-wy5gJG2"
      },
      "source": [
        "##Prediction Function"
      ]
    },
    {
      "cell_type": "code",
      "metadata": {
        "id": "gKPR2VRwgEFA"
      },
      "source": [
        "def predict_score(batting_team, bowling_team, runs, wickets, overs, runs_last_5, wickets_last_5, model=forest):\n",
        "  prediction_array = []\n",
        "  # Batting Team\n",
        "  if batting_team == 'Chennai Super Kings':\n",
        "    prediction_array = prediction_array + [1,0,0,0,0,0,0,0]\n",
        "  elif batting_team == 'Delhi Daredevils':\n",
        "    prediction_array = prediction_array + [0,1,0,0,0,0,0,0]\n",
        "  elif batting_team == 'Kings XI Punjab':\n",
        "    prediction_array = prediction_array + [0,0,1,0,0,0,0,0]\n",
        "  elif batting_team == 'Kolkata Knight Riders':\n",
        "    prediction_array = prediction_array + [0,0,0,1,0,0,0,0]\n",
        "  elif batting_team == 'Mumbai Indians':\n",
        "    prediction_array = prediction_array + [0,0,0,0,1,0,0,0]\n",
        "  elif batting_team == 'Rajasthan Royals':\n",
        "    prediction_array = prediction_array + [0,0,0,0,0,1,0,0]\n",
        "  elif batting_team == 'Royal Challengers Bangalore':\n",
        "    prediction_array = prediction_array + [0,0,0,0,0,0,1,0]\n",
        "  elif batting_team == 'Sunrisers Hyderabad':\n",
        "    prediction_array = prediction_array + [0,0,0,0,0,0,0,1]\n",
        "\n",
        "  # Bowling Team\n",
        "  if bowling_team == 'Chennai Super Kings':\n",
        "    prediction_array = prediction_array + [1,0,0,0,0,0,0,0]\n",
        "  elif bowling_team == 'Delhi Daredevils':\n",
        "    prediction_array = prediction_array + [0,1,0,0,0,0,0,0]\n",
        "  elif bowling_team == 'Kings XI Punjab':\n",
        "    prediction_array = prediction_array + [0,0,1,0,0,0,0,0]\n",
        "  elif bowling_team == 'Kolkata Knight Riders':\n",
        "    prediction_array = prediction_array + [0,0,0,1,0,0,0,0]\n",
        "  elif bowling_team == 'Mumbai Indians':\n",
        "    prediction_array = prediction_array + [0,0,0,0,1,0,0,0]\n",
        "  elif bowling_team == 'Rajasthan Royals':\n",
        "    prediction_array = prediction_array + [0,0,0,0,0,1,0,0]\n",
        "  elif bowling_team == 'Royal Challengers Bangalore':\n",
        "    prediction_array = prediction_array + [0,0,0,0,0,0,1,0]\n",
        "  elif bowling_team == 'Sunrisers Hyderabad':\n",
        "    prediction_array = prediction_array + [0,0,0,0,0,0,0,1]\n",
        "\n",
        "  prediction_array = prediction_array + [runs, wickets, overs, runs_last_5, wickets_last_5]\n",
        "  prediction_array = np.array([prediction_array])\n",
        "  predict = model.predict(prediction_array)\n",
        "  return int(predict[0])"
      ],
      "execution_count": 36,
      "outputs": []
    },
    {
      "cell_type": "markdown",
      "metadata": {
        "id": "MgtR6wqAkgDu"
      },
      "source": [
        ""
      ]
    },
    {
      "cell_type": "code",
      "metadata": {
        "colab": {
          "base_uri": "https://localhost:8080/"
        },
        "id": "NP5XPn4UgrBG",
        "outputId": "2674e898-7f4e-4e69-8c2a-8f4fd3dc966f"
      },
      "source": [
        "batting_team='Kolkata Knight Riders'\n",
        "bowling_team='Royal Challengers Bangalore'\n",
        "final_score = predict_score(batting_team, bowling_team, overs=9.1, runs=78, wickets=1, runs_last_5=24, wickets_last_5=1)\n",
        "print(\"The final predicted score (range): {} to {}\".format(final_score-10, final_score+10))"
      ],
      "execution_count": 37,
      "outputs": [
        {
          "output_type": "stream",
          "name": "stdout",
          "text": [
            "The final predicted score (range): 208 to 228\n"
          ]
        }
      ]
    },
    {
      "cell_type": "code",
      "metadata": {
        "colab": {
          "base_uri": "https://localhost:8080/"
        },
        "id": "M5HHCgzYh730",
        "outputId": "744b6d27-c4e9-4b4a-8273-0d6c0ae37bf1"
      },
      "source": [
        "batting_team='Chennai Super Kings'\n",
        "bowling_team='Mumbai Indians'\n",
        "final_score = predict_score(batting_team, bowling_team, overs=18.6, runs=168, wickets=5, runs_last_5=66, wickets_last_5=2)\n",
        "print(\"The final predicted score (range): {} to {}\".format(final_score-10, final_score+10))"
      ],
      "execution_count": 38,
      "outputs": [
        {
          "output_type": "stream",
          "name": "stdout",
          "text": [
            "The final predicted score (range): 174 to 194\n"
          ]
        }
      ]
    },
    {
      "cell_type": "code",
      "metadata": {
        "colab": {
          "base_uri": "https://localhost:8080/"
        },
        "id": "tifEHMicuawm",
        "outputId": "4d2941f5-6a3d-416f-dd12-0f32d50772e1"
      },
      "source": [
        "batting_team='Delhi Daredevils'\n",
        "bowling_team='Chennai Super Kings'\n",
        "final_score = predict_score(batting_team, bowling_team,  overs=10.2, runs=68, wickets=3, runs_last_5=29, wickets_last_5=1)\n",
        "print(\"The final predicted score (range): {} to {}\".format(final_score-10, final_score+10))"
      ],
      "execution_count": 43,
      "outputs": [
        {
          "output_type": "stream",
          "name": "stdout",
          "text": [
            "The final predicted score (range): 133 to 153\n"
          ]
        }
      ]
    },
    {
      "cell_type": "code",
      "metadata": {
        "colab": {
          "base_uri": "https://localhost:8080/"
        },
        "id": "Z4uhYCKpKnFa",
        "outputId": "72e965c1-2a66-42fc-da91-b5cdf32cef3f"
      },
      "source": [
        "batting_team = 'Kolkata Knight Riders';\n",
        "bowlling_team = 'Mumbai Indians';\n",
        "final_score = predict_score(batting_team,bowling_team,overs=7.5,runs=36,wickets=5,runs_last_5=23,wickets_last_5=4)\n",
        "print(\"The final predicted score (range): {} to {}\".format(final_score-10, final_score+10))"
      ],
      "execution_count": 45,
      "outputs": [
        {
          "output_type": "stream",
          "name": "stdout",
          "text": [
            "The final predicted score (range): 119 to 139\n"
          ]
        }
      ]
    },
    {
      "cell_type": "code",
      "metadata": {
        "colab": {
          "base_uri": "https://localhost:8080/"
        },
        "id": "1kRkk78-QKHx",
        "outputId": "937967d5-f0e9-4228-c840-8c95c51ce79b"
      },
      "source": [
        "batting_team = 'Mumbai Indians'\n",
        "bowling_team = 'Kings XI Punjab'\n",
        "final_score = predict_score(batting_team,bowling_team,overs=14.1,runs=136,wickets=4,runs_last_5=50,wickets_last_5=0)\n",
        "print(\"The final predicted score (range): {} to {}\".format(final_score-10, final_score+10))"
      ],
      "execution_count": 41,
      "outputs": [
        {
          "output_type": "stream",
          "name": "stdout",
          "text": [
            "The final predicted score (range): 177 to 197\n"
          ]
        }
      ]
    }
  ]
}